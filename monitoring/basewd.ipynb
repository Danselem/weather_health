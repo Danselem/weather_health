{
 "cells": [
  {
   "cell_type": "code",
   "execution_count": 1,
   "id": "625dc58d",
   "metadata": {},
   "outputs": [],
   "source": [
    "import requests\n",
    "import datetime\n",
    "import pandas as pd\n",
    "\n",
    "from evidently import DataDefinition\n",
    "from evidently import Dataset\n",
    "from evidently import Report\n",
    "from evidently.metrics import ValueDrift, DriftedColumnsCount, MissingValueCount\n",
    "\n",
    "from joblib import load, dump\n",
    "from tqdm import tqdm\n"
   ]
  },
  {
   "cell_type": "code",
   "execution_count": null,
   "id": "f90dbd3b",
   "metadata": {},
   "outputs": [
    {
     "data": {
      "text/plain": [
       "Index(['Age', 'Gender', 'Temperature (C)', 'Humidity', 'Wind Speed (km/h)',\n",
       "       'nausea', 'joint_pain', 'abdominal_pain', 'high_fever', 'chills',\n",
       "       'fatigue', 'runny_nose', 'pain_behind_the_eyes', 'dizziness',\n",
       "       'headache', 'chest_pain', 'vomiting', 'cough', 'hiv_aids',\n",
       "       'nasal_polyps', 'asthma', 'high_blood_pressure', 'severe_headache',\n",
       "       'weakness', 'trouble_seeing', 'fever', 'body_aches', 'sore_throat',\n",
       "       'sneezing', 'diarrhea', 'rapid_breathing', 'rapid_heart_rate',\n",
       "       'pain_behind_eyes', 'swollen_glands', 'rashes', 'sinus_headache',\n",
       "       'facial_pain', 'shortness_of_breath', 'reduced_smell_and_taste',\n",
       "       'skin_irritation', 'itchiness', 'throbbing_headache', 'confusion',\n",
       "       'back_pain', 'knee_ache', 'prognosis'],\n",
       "      dtype='object')"
      ]
     },
     "execution_count": 9,
     "metadata": {},
     "output_type": "execute_result"
    }
   ],
   "source": [
    "\n",
    "\n",
    "x_path = '../data/processed/x_train.csv'\n",
    "y_path = '../data/processed/y_train.csv'   \n",
    "\n",
    "\n",
    "train_data = pd.read_csv(x_path)\n",
    "# y = pd.read_csv(y_path)\n",
    "\n",
    "\n",
    "X = X.reset_index(drop=True)\n",
    "y = y.reset_index(drop=True)\n",
    "\n",
    "\n",
    "\n",
    "train_data = pd.concat([X, y], axis=1)\n",
    "\n",
    "\n",
    "\n",
    "\n",
    "x_val_path = '../data/processed/x_test.csv'\n",
    "y_val_path = '../data/processed/y_test.csv'\n",
    "\n",
    "X_val = pd.read_csv(x_val_path)\n",
    "y_val = pd.read_csv(y_val_path)\n",
    "\n",
    "\n",
    "X_val = X_val.reset_index(drop=True)\n",
    "y_val = y_val.reset_index(drop=True)\n",
    "\n",
    "val_data = pd.concat([X_val, y_val], axis=1)\n",
    "\n",
    "\n",
    "train_data.columns"
   ]
  },
  {
   "cell_type": "code",
   "execution_count": 72,
   "metadata": {},
   "outputs": [
    {
     "data": {
      "text/plain": [
       "array([ 1,  8,  3,  6,  0, 10,  5,  4,  7,  2,  9])"
      ]
     },
     "execution_count": 72,
     "metadata": {},
     "output_type": "execute_result"
    }
   ],
   "source": [
    "y.prognosis.unique()"
   ]
  },
  {
   "cell_type": "code",
   "execution_count": 29,
   "id": "0e36a6de",
   "metadata": {},
   "outputs": [
    {
     "data": {
      "text/plain": [
       "Index(['Age', 'Gender', 'Temperature (C)', 'Humidity', 'Wind Speed (km/h)',\n",
       "       'nausea', 'joint_pain', 'abdominal_pain', 'high_fever', 'chills',\n",
       "       'fatigue', 'runny_nose', 'pain_behind_the_eyes', 'dizziness',\n",
       "       'headache', 'chest_pain', 'vomiting', 'cough', 'hiv_aids',\n",
       "       'nasal_polyps', 'asthma', 'high_blood_pressure', 'severe_headache',\n",
       "       'weakness', 'trouble_seeing', 'fever', 'body_aches', 'sore_throat',\n",
       "       'sneezing', 'diarrhea', 'rapid_breathing', 'rapid_heart_rate',\n",
       "       'pain_behind_eyes', 'swollen_glands', 'rashes', 'sinus_headache',\n",
       "       'facial_pain', 'shortness_of_breath', 'reduced_smell_and_taste',\n",
       "       'skin_irritation', 'itchiness', 'throbbing_headache', 'confusion',\n",
       "       'back_pain', 'knee_ache'],\n",
       "      dtype='object')"
      ]
     },
     "execution_count": 29,
     "metadata": {},
     "output_type": "execute_result"
    }
   ],
   "source": [
    "\n",
    "\n",
    "x_path = '../data/processed/x_train.csv'\n",
    "  \n",
    "\n",
    "\n",
    "train_data = pd.read_csv(x_path)\n",
    "\n",
    "\n",
    "x_val_path = '../data/processed/x_test.csv'\n",
    "\n",
    "\n",
    "val_data = pd.read_csv(x_val_path)\n",
    "\n",
    "\n",
    "\n",
    "train_data.columns"
   ]
  },
  {
   "cell_type": "code",
   "execution_count": 48,
   "id": "18d37d60",
   "metadata": {},
   "outputs": [],
   "source": [
    "artifact_dir = Path(\"../data/processed\")\n",
    "scaler  = pickle.load(open(artifact_dir / \"minmax_scaler.pkl\", \"rb\"))\n",
    "encoder = pickle.load(open(artifact_dir / \"label_encoder.pkl\", \"rb\"))\n",
    "x_train_scaled = pd.DataFrame(scaler.transform(x_train), columns=x_train.columns)\n",
    "x_val_scaled = pd.DataFrame(scaler.transform(x_val), columns=x_val.columns)"
   ]
  },
  {
   "cell_type": "code",
   "execution_count": 31,
   "id": "ef253304",
   "metadata": {},
   "outputs": [],
   "source": [
    "\n",
    "\n",
    "num_features = ['Age', 'Temperature (C)', 'Humidity', 'Wind Speed (km/h)']\n",
    "cat_features = [col for col in train_data.columns if col not in num_features]\n",
    "\n"
   ]
  },
  {
   "cell_type": "code",
   "execution_count": 57,
   "id": "f2aea1bd",
   "metadata": {},
   "outputs": [
    {
     "name": "stderr",
     "output_type": "stream",
     "text": [
      "2025/07/13 13:27:18 WARNING mlflow.models.utils: Found extra inputs in the model input that are not defined in the model signature: `['prediction']`. These inputs will be ignored.\n"
     ]
    }
   ],
   "source": [
    "model = pickle.load(open(\"../models/weather_disease_model.pkl\", \"rb\")) \n",
    "\n",
    "train_preds = model.predict(x_train_scaled)\n",
    "x_train_scaled['prediction'] = train_preds\n",
    "\n",
    "\n",
    "val_preds = model.predict(x_val_scaled)\n",
    "x_val_scaled['prediction'] = val_preds"
   ]
  },
  {
   "cell_type": "code",
   "execution_count": 69,
   "id": "302d9a3f",
   "metadata": {},
   "outputs": [],
   "source": [
    "x_val_scaled.to_csv('../data/processed/reference.csv')"
   ]
  },
  {
   "cell_type": "code",
   "execution_count": 64,
   "id": "d4b7a37a",
   "metadata": {},
   "outputs": [],
   "source": [
    "data_definition = DataDefinition(numerical_columns=num_features + ['prediction'], categorical_columns=cat_features)\n",
    "train_dataset = Dataset.from_pandas(\n",
    "    x_train_scaled,\n",
    "    data_definition\n",
    ")\n",
    "\n",
    "val_dataset = Dataset.from_pandas(\n",
    "    x_val_scaled,\n",
    "    data_definition\n",
    ")"
   ]
  },
  {
   "cell_type": "code",
   "execution_count": null,
   "id": "7f8d6621",
   "metadata": {},
   "outputs": [],
   "source": []
  },
  {
   "cell_type": "code",
   "execution_count": 65,
   "id": "df104968",
   "metadata": {},
   "outputs": [],
   "source": [
    "report = Report(metrics=[\n",
    "    ValueDrift(column='prediction'),\n",
    "    DriftedColumnsCount(),\n",
    "    MissingValueCount(column='prediction'),\n",
    "]\n",
    ")"
   ]
  },
  {
   "cell_type": "code",
   "execution_count": 66,
   "id": "f787b518",
   "metadata": {},
   "outputs": [],
   "source": [
    "snapshot = report.run(reference_data=train_dataset, current_data=val_dataset)"
   ]
  },
  {
   "cell_type": "code",
   "execution_count": 67,
   "id": "d7ac327f",
   "metadata": {},
   "outputs": [
    {
     "data": {
      "text/plain": [
       "{'metrics': [{'id': 'bfc6e8246d39abff41fc2e002575d9a3',\n",
       "   'metric_id': 'ValueDrift(column=prediction)',\n",
       "   'value': np.float64(0.028254353539333074)},\n",
       "  {'id': '15e89f895b482f9b84ba7274ed18a106',\n",
       "   'metric_id': 'DriftedColumnsCount(drift_share=0.5)',\n",
       "   'value': {'count': 0.0, 'share': 0.0}},\n",
       "  {'id': 'd57fce37e7dac2a48797649e0e142902',\n",
       "   'metric_id': 'MissingValueCount(column=prediction)',\n",
       "   'value': {'count': 0.0, 'share': np.float64(0.0)}}],\n",
       " 'tests': []}"
      ]
     },
     "execution_count": 67,
     "metadata": {},
     "output_type": "execute_result"
    }
   ],
   "source": [
    "result = snapshot.dict()\n",
    "result"
   ]
  },
  {
   "cell_type": "code",
   "execution_count": 63,
   "id": "8093cd05",
   "metadata": {},
   "outputs": [
    {
     "data": {
      "text/plain": [
       "np.float64(0.028254353539333074)"
      ]
     },
     "execution_count": 63,
     "metadata": {},
     "output_type": "execute_result"
    }
   ],
   "source": [
    "#prediction drift\n",
    "result['metrics'][0]['value']"
   ]
  },
  {
   "cell_type": "code",
   "execution_count": 19,
   "id": "bd7ea17f",
   "metadata": {},
   "outputs": [
    {
     "ename": "TypeError",
     "evalue": "ClassificationPreset.__init__() got an unexpected keyword argument 'target'",
     "output_type": "error",
     "traceback": [
      "\u001b[0;31m---------------------------------------------------------------------------\u001b[0m",
      "\u001b[0;31mTypeError\u001b[0m                                 Traceback (most recent call last)",
      "Cell \u001b[0;32mIn[19], line 30\u001b[0m\n\u001b[1;32m     27\u001b[0m cur \u001b[38;5;241m=\u001b[39m x_val\u001b[38;5;241m.\u001b[39mcopy()\n\u001b[1;32m     28\u001b[0m cur[\u001b[38;5;124m\"\u001b[39m\u001b[38;5;124mprognosis\u001b[39m\u001b[38;5;124m\"\u001b[39m] \u001b[38;5;241m=\u001b[39m y_val\n\u001b[0;32m---> 30\u001b[0m report \u001b[38;5;241m=\u001b[39m Report(metrics\u001b[38;5;241m=\u001b[39m[DataDriftPreset(), \u001b[43mClassificationPreset\u001b[49m\u001b[43m(\u001b[49m\u001b[43mtarget\u001b[49m\u001b[38;5;241;43m=\u001b[39;49m\u001b[38;5;124;43m\"\u001b[39;49m\u001b[38;5;124;43mprognosis\u001b[39;49m\u001b[38;5;124;43m\"\u001b[39;49m\u001b[43m)\u001b[49m])\n\u001b[1;32m     31\u001b[0m report\u001b[38;5;241m.\u001b[39mrun(reference_data\u001b[38;5;241m=\u001b[39mref, current_data\u001b[38;5;241m=\u001b[39mcur)\n\u001b[1;32m     33\u001b[0m ts \u001b[38;5;241m=\u001b[39m datetime\u001b[38;5;241m.\u001b[39mdatetime\u001b[38;5;241m.\u001b[39mnow()\u001b[38;5;241m.\u001b[39mstrftime(\u001b[38;5;124m\"\u001b[39m\u001b[38;5;124m%\u001b[39m\u001b[38;5;124mY-\u001b[39m\u001b[38;5;124m%\u001b[39m\u001b[38;5;124mm-\u001b[39m\u001b[38;5;132;01m%d\u001b[39;00m\u001b[38;5;124m_\u001b[39m\u001b[38;5;124m%\u001b[39m\u001b[38;5;124mH-\u001b[39m\u001b[38;5;124m%\u001b[39m\u001b[38;5;124mM-\u001b[39m\u001b[38;5;124m%\u001b[39m\u001b[38;5;124mS\u001b[39m\u001b[38;5;124m\"\u001b[39m)\n",
      "\u001b[0;31mTypeError\u001b[0m: ClassificationPreset.__init__() got an unexpected keyword argument 'target'"
     ]
    }
   ],
   "source": [
    "#!/usr/bin/env python\n",
    "\n",
    "import pickle\n",
    "import pandas as pd\n",
    "from pathlib import Path\n",
    "import datetime\n",
    "from evidently import Report\n",
    "from evidently.presets import DataDriftPreset, ClassificationPreset\n",
    "\n",
    "artifact_dir = Path(\"../data/processed\")\n",
    "scaler  = pickle.load(open(artifact_dir / \"minmax_scaler.pkl\", \"rb\"))\n",
    "encoder = pickle.load(open(artifact_dir / \"label_encoder.pkl\", \"rb\"))\n",
    "\n",
    "x_train = pd.read_csv(\"../data/processed/x_train.csv\")\n",
    "y_train = pd.read_csv(\"../data/processed/y_train.csv\")\n",
    "x_val   = pd.read_csv(\"../data/processed/x_test.csv\")\n",
    "y_val   = pd.read_csv(\"../data/processed/y_test.csv\")\n",
    "\n",
    "x_train = pd.DataFrame(scaler.transform(x_train), columns=x_train.columns)\n",
    "x_val   = pd.DataFrame(scaler.transform(x_val),   columns=x_val.columns)\n",
    "\n",
    "y_train = encoder.inverse_transform(y_train[\"prognosis\"])\n",
    "y_val   = encoder.inverse_transform(y_val[\"prognosis\"])\n",
    "\n",
    "ref = x_train.copy()\n",
    "ref[\"prognosis\"] = y_train\n",
    "cur = x_val.copy()\n",
    "cur[\"prognosis\"] = y_val\n",
    "\n",
    "report = Report(metrics=[DataDriftPreset(), ClassificationPreset(target=\"prognosis\")])\n",
    "report.run(reference_data=ref, current_data=cur)\n",
    "\n",
    "ts = datetime.datetime.now().strftime(\"%Y-%m-%d_%H-%M-%S\")\n",
    "out_dir = Path(\"monitor_reports\") / ts\n",
    "out_dir.mkdir(parents=True, exist_ok=True)\n",
    "report.save_html(out_dir / \"weather_disease_monitoring.html\")\n",
    "print(out_dir)\n"
   ]
  },
  {
   "cell_type": "code",
   "execution_count": null,
   "id": "b0495bea",
   "metadata": {},
   "outputs": [
    {
     "ename": "ImportError",
     "evalue": "cannot import name 'ColumnMapping' from 'evidently' (/Users/user1/Data/mlops/weather_health/.venv/lib/python3.10/site-packages/evidently/__init__.py)",
     "output_type": "error",
     "traceback": [
      "\u001b[0;31m---------------------------------------------------------------------------\u001b[0m",
      "\u001b[0;31mImportError\u001b[0m                               Traceback (most recent call last)",
      "Cell \u001b[0;32mIn[28], line 10\u001b[0m\n\u001b[1;32m      8\u001b[0m \u001b[38;5;28;01mfrom\u001b[39;00m\u001b[38;5;250m \u001b[39m\u001b[38;5;21;01mevidently\u001b[39;00m\u001b[38;5;250m \u001b[39m\u001b[38;5;28;01mimport\u001b[39;00m Report\n\u001b[1;32m      9\u001b[0m \u001b[38;5;28;01mfrom\u001b[39;00m\u001b[38;5;250m \u001b[39m\u001b[38;5;21;01mevidently\u001b[39;00m\u001b[38;5;21;01m.\u001b[39;00m\u001b[38;5;21;01mpresets\u001b[39;00m\u001b[38;5;250m \u001b[39m\u001b[38;5;28;01mimport\u001b[39;00m ClassificationPreset\n\u001b[0;32m---> 10\u001b[0m \u001b[38;5;28;01mfrom\u001b[39;00m\u001b[38;5;250m \u001b[39m\u001b[38;5;21;01mevidently\u001b[39;00m\u001b[38;5;250m \u001b[39m\u001b[38;5;28;01mimport\u001b[39;00m ColumnMapping\n\u001b[1;32m     11\u001b[0m \u001b[38;5;28;01mfrom\u001b[39;00m\u001b[38;5;250m \u001b[39m\u001b[38;5;21;01msklearn\u001b[39;00m\u001b[38;5;21;01m.\u001b[39;00m\u001b[38;5;21;01mpreprocessing\u001b[39;00m\u001b[38;5;250m \u001b[39m\u001b[38;5;28;01mimport\u001b[39;00m MinMaxScaler, LabelEncoder   \u001b[38;5;66;03m# only for type hints\u001b[39;00m\n\u001b[1;32m     13\u001b[0m art_dir \u001b[38;5;241m=\u001b[39m Path(\u001b[38;5;124m\"\u001b[39m\u001b[38;5;124m../data/processed\u001b[39m\u001b[38;5;124m\"\u001b[39m)\n",
      "\u001b[0;31mImportError\u001b[0m: cannot import name 'ColumnMapping' from 'evidently' (/Users/user1/Data/mlops/weather_health/.venv/lib/python3.10/site-packages/evidently/__init__.py)"
     ]
    }
   ],
   "source": [
    "#!/usr/bin/env python\n",
    "\n",
    "import pickle\n",
    "import numpy as np\n",
    "import pandas as pd\n",
    "from pathlib import Path\n",
    "import datetime\n",
    "from evidently import Report\n",
    "from evidently.presets import ClassificationPreset\n",
    "from sklearn.preprocessing import MinMaxScaler, LabelEncoder   # only for type hints\n",
    "\n",
    "art_dir = Path(\"../data/processed\")\n",
    "\n",
    "# load artefacts\n",
    "scaler: MinMaxScaler = pickle.load(open(art_dir / \"minmax_scaler.pkl\", \"rb\"))\n",
    "encoder: LabelEncoder = pickle.load(open(art_dir / \"label_encoder.pkl\", \"rb\"))\n",
    "model = pickle.load(open(\"../models/weather_disease_model.pkl\", \"rb\"))              # your trained classifier\n",
    "\n",
    "# reference (train) and current (validation) data\n",
    "x_ref = pd.read_csv(art_dir / \"x_train.csv\")\n",
    "y_ref = pd.read_csv(art_dir / \"y_train.csv\")\n",
    "x_cur = pd.read_csv(art_dir / \"x_test.csv\")\n",
    "y_cur = pd.read_csv(art_dir / \"y_test.csv\")\n",
    "\n",
    "# scale features\n",
    "x_ref = pd.DataFrame(scaler.transform(x_ref), columns=x_ref.columns)\n",
    "x_cur = pd.DataFrame(scaler.transform(x_cur), columns=x_cur.columns)\n",
    "\n",
    "# decode ground‑truth labels\n",
    "y_ref = encoder.inverse_transform(y_ref[\"prognosis\"])\n",
    "y_cur = encoder.inverse_transform(y_cur[\"prognosis\"])\n",
    "\n",
    "pred_ref = model.predict(x_ref)\n",
    "pred_cur = model.predict(x_cur)\n",
    "\n",
    "def is_prob(a): return np.issubdtype(a.dtype, np.floating) and np.all((a>=0)&(a<=1))\n",
    "prob_mode = is_prob(pred_ref)\n",
    "\n",
    "ref = x_ref.copy(); cur = x_cur.copy()\n",
    "ref[\"prognosis\"] = y_ref;  cur[\"prognosis\"] = y_cur\n",
    "\n",
    "cm = ColumnMapping(target=\"prognosis\")      # <-- base mapping\n",
    "\n",
    "if prob_mode:                               # probabilities\n",
    "    ref[\"prediction_proba\"] = pred_ref\n",
    "    cur[\"prediction_proba\"] = pred_cur\n",
    "    cm.prediction_proba = \"prediction_proba\"\n",
    "else:                                       # class labels\n",
    "    ref[\"prediction\"] = pred_ref\n",
    "    cur[\"prediction\"] = pred_cur\n",
    "    cm.prediction = \"prediction\"\n",
    "\n",
    "report = Report(metrics=[ClassificationPreset(probas_threshold=0.5)])\n",
    "\n",
    "report.run(reference_data=ref, current_data=cur,)  # <-- pass mapping\n",
    "\n",
    "ts = datetime.datetime.now().strftime(\"%Y-%m-%d_%H-%M-%S\")\n",
    "out = Path(\"monitor_reports\")/ts; out.mkdir(parents=True, exist_ok=True)\n",
    "report.save_html(out/\"weather_disease_classification.html\")\n",
    "print(out)  "
   ]
  },
  {
   "cell_type": "code",
   "execution_count": null,
   "id": "a8f30eb4",
   "metadata": {},
   "outputs": [],
   "source": []
  }
 ],
 "metadata": {
  "kernelspec": {
   "display_name": ".venv",
   "language": "python",
   "name": "python3"
  },
  "language_info": {
   "codemirror_mode": {
    "name": "ipython",
    "version": 3
   },
   "file_extension": ".py",
   "mimetype": "text/x-python",
   "name": "python",
   "nbconvert_exporter": "python",
   "pygments_lexer": "ipython3",
   "version": "3.10.16"
  }
 },
 "nbformat": 4,
 "nbformat_minor": 5
}
